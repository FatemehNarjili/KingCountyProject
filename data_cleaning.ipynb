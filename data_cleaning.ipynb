{
 "cells": [
  {
   "cell_type": "markdown",
   "id": "1b537ba5",
   "metadata": {},
   "source": [
    "## Import necessary libraries"
   ]
  },
  {
   "cell_type": "code",
   "execution_count": 1,
   "id": "b91a99b3",
   "metadata": {},
   "outputs": [],
   "source": [
    "import pandas as pd\n",
    "import numpy as np"
   ]
  },
  {
   "cell_type": "markdown",
   "id": "9d6e1b39",
   "metadata": {},
   "source": [
    "## Load the datasets"
   ]
  },
  {
   "cell_type": "code",
   "execution_count": 2,
   "id": "7e725be1",
   "metadata": {},
   "outputs": [],
   "source": [
    "king_county_df =  pd.read_csv(\"data/Food_Establishment_Inspection_Data.csv\", low_memory=False)"
   ]
  },
  {
   "cell_type": "markdown",
   "id": "d660d00d",
   "metadata": {},
   "source": [
    "## Split Description column into two columns"
   ]
  },
  {
   "cell_type": "code",
   "execution_count": 3,
   "id": "ea880159",
   "metadata": {},
   "outputs": [],
   "source": [
    "cleaned_data = king_county_df\n",
    "cleaned_data[[\"Seating\", \"Risk\"]] = cleaned_data[\"Description\"].str.split(\" - \", expand=True)\n",
    "cleaned_data[\"Risk\"] = king_county_df[\"Risk\"].str.replace(\"Risk II\", \"Risk Category II\")\n",
    "cleaned_data.drop(columns=\"Description\", inplace=True)"
   ]
  },
  {
   "cell_type": "markdown",
   "id": "581e38e0",
   "metadata": {},
   "source": [
    "## Split Violation Description column into two columns"
   ]
  },
  {
   "cell_type": "code",
   "execution_count": 4,
   "id": "e3c927e6",
   "metadata": {},
   "outputs": [],
   "source": [
    "cleaned_data[[\"Violation Code\", \"Violation Description\"]] = cleaned_data[\"Violation Description\"].str.extract(r\"(\\d{4})\\s*(.*)\")"
   ]
  },
  {
   "cell_type": "code",
   "execution_count": 5,
   "id": "3c6ffc0a-7ed9-43b6-b2c5-691b4ffd385a",
   "metadata": {},
   "outputs": [],
   "source": [
    "cleaned_data[\"Violation Description\"] = cleaned_data[\"Violation Description\"].str.replace(\"-\", \" \").str.strip()"
   ]
  },
  {
   "cell_type": "markdown",
   "id": "39fc9c3c",
   "metadata": {},
   "source": [
    "## Convert Inspection Date column to datetime"
   ]
  },
  {
   "cell_type": "code",
   "execution_count": 6,
   "id": "8699939b",
   "metadata": {},
   "outputs": [],
   "source": [
    "cleaned_data[\"Inspection Date\"] = pd.to_datetime(cleaned_data[\"Inspection Date\"])"
   ]
  },
  {
   "cell_type": "markdown",
   "id": "bf013d37",
   "metadata": {},
   "source": [
    "## Remove unimportant columns"
   ]
  },
  {
   "cell_type": "code",
   "execution_count": 7,
   "id": "2ac6f3ff",
   "metadata": {},
   "outputs": [],
   "source": [
    "cleaned_data.drop(columns=[\"Name\", \"Program Identifier\", \"Address\", \"Zip Code\", \"Phone\", \"Violation_Record_ID\"], inplace=True)"
   ]
  },
  {
   "cell_type": "markdown",
   "id": "d5ad6782",
   "metadata": {},
   "source": [
    "## Replace Inspection Closed Business column values with 1 & 0"
   ]
  },
  {
   "cell_type": "code",
   "execution_count": 8,
   "id": "5816f80c",
   "metadata": {},
   "outputs": [],
   "source": [
    "cleaned_data[\"Inspection Closed Business\"].replace([True, False], [1, 0],inplace=True)"
   ]
  },
  {
   "cell_type": "markdown",
   "id": "c0ba01d6",
   "metadata": {},
   "source": [
    "## Grade column"
   ]
  },
  {
   "cell_type": "code",
   "execution_count": 9,
   "id": "2b3369a9",
   "metadata": {},
   "outputs": [],
   "source": [
    "def f(row):\n",
    "    if 0 <= row[\"Inspection Score\"] <= 11.983561:\n",
    "        row[\"Grade\"] = 1\n",
    "    elif 11.983561 < row[\"Inspection Score\"] <= 21.982619:\n",
    "        row[\"Grade\"] = 2\n",
    "    elif 21.982619 < row[\"Inspection Score\"] <= 32.785348:\n",
    "        row[\"Grade\"] = 3\n",
    "    elif 32.785348 < row[\"Inspection Score\"]:\n",
    "        row[\"Grade\"] = 4\n",
    "\n",
    "    \n",
    "    return row\n",
    "\n",
    "\n",
    "cleaned_data[cleaned_data[\"Grade\"].isna()] = cleaned_data[cleaned_data[\"Grade\"].isna()].apply(f, axis=1)"
   ]
  },
  {
   "cell_type": "markdown",
   "id": "6e75d3dc-c4fd-4dcc-b1f3-7f4c312e7d85",
   "metadata": {},
   "source": [
    "## City column"
   ]
  },
  {
   "cell_type": "code",
   "execution_count": 10,
   "id": "4e9f187a-d266-43bd-ad25-fdcd27e9cefa",
   "metadata": {},
   "outputs": [],
   "source": [
    "cleaned_data['City'] = cleaned_data['City'].str.lower()\n",
    "cleaned_data['City'].replace('sea tac', 'seatac', inplace=True)\n",
    "cleaned_data['City'].replace('vashon island', 'vashon', inplace=True)"
   ]
  },
  {
   "cell_type": "markdown",
   "id": "0098f66b-12a4-4986-9f4b-abbf1fc06d7b",
   "metadata": {},
   "source": [
    "## Violation columns"
   ]
  },
  {
   "cell_type": "code",
   "execution_count": 11,
   "id": "774fee15-99da-475c-a3e0-cee4f974ca6e",
   "metadata": {},
   "outputs": [],
   "source": [
    "violation_df = pd.read_csv(\"data/violation.csv\", delimiter=\"|\", dtype=object)"
   ]
  },
  {
   "cell_type": "code",
   "execution_count": 12,
   "id": "08cd091c-9f21-41a5-b2a7-dba94a75dc05",
   "metadata": {},
   "outputs": [],
   "source": [
    "def row_maping_function(row):\n",
    "    if row[\"Violation Code\"] is not np.nan and row[\"Violation Code\"] in violation_df[\"Violation Code\"].values:\n",
    "        temp = violation_df[violation_df[\"Violation Code\"] == row[\"Violation Code\"]].iloc[0, :]\n",
    "        row[\"Violation Description\"] = temp[\"Violation Description\"]\n",
    "        row[\"Violation Points\"] = temp[\"Violation Points\"]\n",
    "        row[\"Violation Type\"] = temp[\"Violation Type\"]\n",
    "    return row\n",
    "\n",
    "cleaned_data.iloc[:, 1:] = cleaned_data.iloc[:, 1:].apply(row_maping_function, axis=1)"
   ]
  },
  {
   "cell_type": "markdown",
   "id": "4f3635f7-a97b-4fd9-b01b-1209b47884a0",
   "metadata": {},
   "source": [
    "## Write the cleaned_data data frame to a csv file"
   ]
  },
  {
   "cell_type": "code",
   "execution_count": 13,
   "id": "a4fa75b0-ed18-4abe-a0f5-b327a13ba201",
   "metadata": {},
   "outputs": [],
   "source": [
    "cleaned_data.to_csv(\"data/king_county_cleaned_data.csv\", index=False)"
   ]
  }
 ],
 "metadata": {
  "kernelspec": {
   "display_name": "Python 3 (ipykernel)",
   "language": "python",
   "name": "python3"
  },
  "language_info": {
   "codemirror_mode": {
    "name": "ipython",
    "version": 3
   },
   "file_extension": ".py",
   "mimetype": "text/x-python",
   "name": "python",
   "nbconvert_exporter": "python",
   "pygments_lexer": "ipython3",
   "version": "3.11.4"
  }
 },
 "nbformat": 4,
 "nbformat_minor": 5
}
